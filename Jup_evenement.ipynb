{
 "cells": [
  {
   "cell_type": "code",
   "execution_count": 3,
   "metadata": {},
   "outputs": [
    {
     "name": "stdout",
     "output_type": "stream",
     "text": [
      "browser switched\n",
      "element exist we click on it\n"
     ]
    }
   ],
   "source": [
    "import os\n",
    "from selenium import webdriver\n",
    "from selenium.webdriver.common.keys import Keys\n",
    "from selenium import webdriver\n",
    "from selenium import webdriver\n",
    "from selenium.webdriver.chrome.service import Service\n",
    "from selenium.webdriver.common.by import By\n",
    "import time\n",
    "options_r = webdriver.ChromeOptions()\n",
    "options_r.add_argument(\"--no-sandbox\")\n",
    "options_r.add_argument(\"--disable-dev-shm-usage\")\n",
    "browser = webdriver.Chrome(options=options_r)\n",
    "browser.get(\"https://sirh.cdg22.fr/cgi-bin/acces.exe\")\n",
    "#frame = browser.find_element(\"xpath\" , '//frame[@name=\"choixAppli\"]')\n",
    "#browser.switch_to.frame(frame)\n",
    "original_window = browser.current_window_handle\n",
    "name=browser.find_element(\"id\",\"identifiant\").send_keys(\"cirark\")\n",
    "password=browser.find_element(\"id\",\"motPasse\").send_keys(\"TestRPA611\")\n",
    "click_button=browser.find_element(\"id\",\"inputSubmit\").click()\n",
    "\n",
    "navigateagnet=browser.find_element(\"xpath\",'/html/body/div[2]/div[2]/div[2]/div/div/div[1]/div[2]/div').click()\n",
    "all_window_handles=browser.window_handles\n",
    "for window_handle in all_window_handles:\n",
    "    if window_handle != original_window:\n",
    "        browser.switch_to.window(window_handle)\n",
    "        print('browser switched')\n",
    "        break\n",
    "agent_browser=browser.find_element(\"id\",'E3TreeMenuSurvolLink')\n",
    "print('element exist we click on it')\n",
    "agent_browser=browser.find_element(\"xpath\",'/html/body/div[28]/div[2]/div/div[1]/div[1]/div[1]/div[1]/ul/li[1]/div/span').click()\n",
    "time.sleep(3)\n",
    "matricule_path=browser.find_element('xpath' , '/html/body/div[37]/div[2]/div/div[2]/div[4]/div/div/div/div/div[2]/div/div[2]/div/div[2]/div[3]/div/div/div[2]/div/input').send_keys(\"34909\")\n",
    "recherche_button=browser.find_element('xpath' , '/html/body/div[37]/div[2]/div/div[2]/div[2]/div[2]/ul/li[1]/div/div/div[2]/div/div[3]/div/input').click()\n",
    "time.sleep(2)\n",
    "#button=browser.find_element('xpath' , '/html/body/div[37]/div[2]/div/div[1]/div[1]/div[1]/div[1]/ul/li[1]/div/div[1]').click()\n",
    "time.sleep(4)"
   ]
  },
  {
   "cell_type": "code",
   "execution_count": 9,
   "metadata": {},
   "outputs": [],
   "source": [
    "dossier_administratif=browser.find_element('xpath','//div[2]/div/div[1]/div[1]/div[1]/div[1]/ul/li[1]/ul/li[7]').click()"
   ]
  },
  {
   "cell_type": "code",
   "execution_count": 10,
   "metadata": {},
   "outputs": [],
   "source": [
    "from selenium.webdriver.common.action_chains import ActionChains\n",
    "action = ActionChains(browser)\n",
    "element=browser.find_element('xpath',\"//div[2]/div/div[2]/div[5]/div/div/div/div/div[7]/div/div[1]/ul/li/ul/li/div/div[4]\")\n",
    "\n",
    "action.context_click(element).perform()"
   ]
  },
  {
   "cell_type": "code",
   "execution_count": 11,
   "metadata": {},
   "outputs": [],
   "source": [
    "saisir_evenement=browser.find_element('xpath','/html/body/div[45]/div/div[5]/a').click()"
   ]
  },
  {
   "cell_type": "code",
   "execution_count": null,
   "metadata": {},
   "outputs": [],
   "source": [
    "date_debut_contrat=browser.find_element('xpath','//div[2]/div/div[2]/div[5]/div/div/div/div/div[7]/div/div[3]/div/div/div[2]/div/input').clear()"
   ]
  },
  {
   "cell_type": "code",
   "execution_count": null,
   "metadata": {},
   "outputs": [],
   "source": [
    "date_excel=\"08/07/2024\"\n",
    "date_debut_contrat=browser.find_element('xpath','//div[2]/div/div[2]/div[5]/div/div/div/div/div[7]/div/div[3]/div/div/div[2]/div/input').send_keys(date_excel)"
   ]
  },
  {
   "cell_type": "code",
   "execution_count": 16,
   "metadata": {},
   "outputs": [],
   "source": [
    "evenement=browser.find_element('xpath','//div[2]/div/div[2]/div[5]/div/div/div/div/div[7]/div/div[6]/div/div/div[2]/div/input').send_keys('CA_NOMCONA3')"
   ]
  },
  {
   "cell_type": "code",
   "execution_count": 17,
   "metadata": {},
   "outputs": [],
   "source": [
    "famille_evenemnt=browser.find_element('xpath','//div[2]/div/div[2]/div[5]/div/div/div/div/div[7]/div/div[5]/div/div/div/input').send_keys('Contrat')"
   ]
  },
  {
   "cell_type": "code",
   "execution_count": 18,
   "metadata": {},
   "outputs": [],
   "source": [
    "enregistrer=browser.find_element('xpath','//div[2]/div/div[2]/div[2]/div[2]/ul/li[9]/div/div/div[2]/div/div[3]/div/input').click()"
   ]
  },
  {
   "cell_type": "code",
   "execution_count": 49,
   "metadata": {},
   "outputs": [
    {
     "name": "stdout",
     "output_type": "stream",
     "text": [
      "Nomination contractuel accroissement temporaire d'activité\n"
     ]
    }
   ],
   "source": [
    "#MOTIF_colonne_excel___la_correspondance\n",
    "import re\n",
    "\n",
    "# Dictionnaire de conversion\n",
    "conversion_dict = {\n",
    "    \"Besoin occasionnel\": \"Nomination contractuel accroissement temporaire d'activité\",\n",
    "    \"Besoin Saisonnier\": \"Nomination contractuel accroissement saisonnier d'activité \",\n",
    "    \"Remplacement Titulaire\": \"Nomination contractuel remplaçant temporaire\",\n",
    "    \"Vacance de Poste\": \"Nomination contractuel vacance temporaire d'emploi\"\n",
    "}\n",
    "\n",
    "# Fonction de conversion\n",
    "def convert_text(text, conversion_dict):\n",
    "    for key, value in conversion_dict.items():\n",
    "        text = re.sub(re.escape(key), value, text)\n",
    "    return text\n",
    "\n",
    "# Exemple d'utilisation\n",
    "text = \"Besoin occasionnel\"\n",
    "converted_text = convert_text(text, conversion_dict)\n",
    "print(converted_text)\n"
   ]
  },
  {
   "cell_type": "code",
   "execution_count": null,
   "metadata": {},
   "outputs": [],
   "source": []
  },
  {
   "cell_type": "code",
   "execution_count": 46,
   "metadata": {},
   "outputs": [
    {
     "name": "stdout",
     "output_type": "stream",
     "text": [
      "LI 1: 08/07/2024 - Avenant au contrat à durée déterminée (CGFP mars 2022) (AT_CON300A)\n",
      "[]\n",
      "LI 2: 08/07/2024 - Avenant au contrat à durée indéterminée (CGFP mars 2022) (AT_CON360A)\n",
      "[]\n",
      "LI 3: 08/07/2024 - Nom contractuel collaborateur de cabinet (art L333-1) (AT_CON371)\n",
      "[]\n",
      "LI 4: 08/07/2024 - Nom contractuel collaborateur de cabinet par détachement (art L333-1) (AT_NOM0512)\n",
      "[]\n",
      "LI 5: 08/07/2024 - Nom contractuel collaborateur de groupes d'élus (art L333-12) (AT_CON370)\n",
      "[]\n",
      "LI 6: 08/07/2024 - Nom contractuel collaborateur de groupes d'élus par détachement (art L333-12) (AT_NOM0511)\n",
      "[]\n",
      "LI 7: 08/07/2024 - Nomination contractuel absence de cadre d'emplois (art L332-8-1) (AT_CON331)\n",
      "[]\n",
      "LI 8: 08/07/2024 - Nomination contractuel accroissement saisonnier d'activité (art L332-23-2) (AT_CON302)\n",
      "[]\n",
      "LI 9: 08/07/2024 - Nomination contractuel accroissement temporaire d'activité (art L332-23-1) (AT_CON301)\n",
      "[\"Nomination contractuel accroissement temporaire d'activité\"]\n",
      "[\"Nomination contractuel accroissement temporaire d'activité\"]\n",
      "XPath of matching element: /HTML[1]/BODY[1]/DIV[30]/DIV[2]/DIV[1]/DIV[2]/DIV[5]/DIV[1]/DIV[1]/DIV[1]/DIV[1]/DIV[4]/DIV[1]/DIV[1]/UL[1]/LI[1]/UL[1]/LI[1]/UL[1]/LI[9]\n",
      "LI 10: 08/07/2024 - Nomination contractuel catégorie A, B et C (art L332-8-2) (AT_CON332)\n",
      "[]\n",
      "LI 11: 08/07/2024 - Nomination contractuel commune < 2000 hab (art L332-8-6) (AT_CON335)\n",
      "[]\n",
      "LI 12: 08/07/2024 - Nomination contractuel emploi TNC < Mi-temps (art L332-8-5) (AT_CON334)\n",
      "[]\n",
      "LI 13: 08/07/2024 - Nomination contractuel emploi fonctionnel de direction (art L343-1) (AT_CON047)\n",
      "[]\n",
      "LI 14: 08/07/2024 - Nomination contractuel en alternance PACTE (AT_CON020)\n",
      "[]\n",
      "LI 15: 08/07/2024 - Nomination contractuel pour mener à bien un projet ou une opération art L332-24 (AT_CON303)\n",
      "[]\n",
      "LI 16: 08/07/2024 - Nomination contractuel remplaçant temporaire (art L332-13) (AT_CON310)\n",
      "[]\n",
      "LI 17: 08/07/2024 - Nomination contractuel secrétaire général de mairie des communes  (art L332-8-7) (AT_CON336)\n",
      "[]\n",
      "LI 18: 08/07/2024 - Nomination contractuel suite fusion communes nouvelles <1000 h (art L332-8-4) (AT_CON333B)\n",
      "[]\n",
      "LI 19: 08/07/2024 - Nomination contractuel tous les emplois com <1000 h / epci <15000 h art L332-8-3 (AT_CON333)\n",
      "[]\n",
      "LI 20: 08/07/2024 - Nomination contractuel travailleur handicapé (art L352-4) (AT_NOM0508)\n",
      "[]\n",
      "LI 21: 08/07/2024 - Nomination contractuel vacance temporaire d'emploi (art L332-14) (AT_CON320)\n",
      "[]\n",
      "LI 22: 08/07/2024 - Nomination contractuel à durée déterminée (CGFP mars 2022) (AT_CON300)\n",
      "[]\n",
      "LI 23: 08/07/2024 - Nomination contractuel à durée indéterminée (art L332-10) (AT_CON342)\n",
      "[]\n",
      "LI 24: 08/07/2024 - Nomination contractuel à durée indéterminée (portabilité art L332-12) (AT_CON350)\n",
      "[]\n",
      "LI 25: 08/07/2024 - Nomination contractuel à durée indéterminée par voie de transfert L445-3 (AT_CON030)\n",
      "[]\n",
      "LI 26: 08/07/2024 - Recond CDI secrétaire général de mairie des communes <2000 hab  (art L332-8-7) (AT_CON336I)\n",
      "[]\n",
      "LI 27: 08/07/2024 - Recond contrat à durée indéterminée commune < 2000 hab (art L332-8-6) (AT_CON335I)\n",
      "[]\n",
      "LI 28: 08/07/2024 - Recond contrat à durée indéterminée emploi TNC < Mi-temps (art L332-8-5) (AT_CON334I)\n",
      "[]\n",
      "LI 29: 08/07/2024 - Reconduction contrat à durée indéterminée absence cadre d'emplois (art L332-8-1) (AT_CON331I)\n",
      "[]\n",
      "LI 30: 08/07/2024 - Reconduction contrat à durée indéterminée catégorie A,B et C (art L332-8-2) (AT_CON332I)\n",
      "[]\n",
      "LI 31: 08/07/2024 - Reconduction d'un contrat à durée indéterminée (CGFP mars 2022) (AT_CON360)\n",
      "[]\n",
      "LI 32: 08/07/2024 - Reconduction en CDI emplois com <1000 h / epci <15000 h (art L332-8-3) (AT_CON333I)\n",
      "[]\n",
      "LI 33: 08/07/2024 - Renouv contractuel secrétaire général de mairie des communes (art L332-8-7) (AT_CON336R)\n",
      "[]\n",
      "LI 34: 08/07/2024 - Renouvellement  période d'essai (art L332) (AT_CON300P)\n",
      "[]\n",
      "LI 35: 08/07/2024 - Renouvellement contractuel ,emplois com <1000 h / epci <15000 h (art L332-8-3) (AT_CON333R)\n",
      "[]\n",
      "LI 36: 08/07/2024 - Renouvellement contractuel collaborateur de groupes d'élus (art L333-12) (AT_CON370R)\n",
      "[]\n",
      "LI 37: 08/07/2024 - Renouvellement nom contractuel accroissement saisonnier activité (art L332-23-2) (AT_CON302R)\n",
      "[]\n",
      "LI 38: 08/07/2024 - Renouvellement nom contractuel emploi TNC  < Mi-temps (art L332-8-5) (AT_CON334R)\n",
      "[]\n",
      "LI 39: 08/07/2024 - Renouvellement nom contractuel suite fusion communes < 1000 h (art L332-8-4) (AT_CON333BR)\n",
      "[]\n",
      "LI 40: 08/07/2024 - Renouvellement nomination contractuel absence de cadre d'emplois (art L332-8-1) (AT_CON331R)\n",
      "[]\n",
      "LI 41: 08/07/2024 - Renouvellement nomination contractuel accroissement temporaire(art L332-23-1) (AT_CON301R)\n",
      "[]\n",
      "LI 42: 08/07/2024 - Renouvellement nomination contractuel catégorie A, B et C (art L332-8-2) (AT_CON332R)\n",
      "[]\n",
      "LI 43: 08/07/2024 - Renouvellement nomination contractuel commune < 2000 hab (art L332-8-6) (AT_CON335R)\n",
      "[]\n",
      "LI 44: 08/07/2024 - Renouvellement nomination contractuel emploi fonctionnel de direction art L343-1 (AT_CON047R)\n",
      "[]\n",
      "LI 45: 08/07/2024 - Renouvellement nomination contractuel pour mener à bien un projet art L332-24 (AT_CON303R)\n",
      "[]\n",
      "LI 46: 08/07/2024 - Renouvellement nomination contractuel remplaçant temporaire  (art L332-13) (AT_CON310R)\n",
      "[]\n",
      "LI 47: 08/07/2024 - Renouvellement nomination contractuel vacance temporaire d'emploi (art L332-14) (AT_CON320R)\n",
      "[]\n",
      "LI 48: 08/07/2024 - Renouvellement nomination contractuel à durée déterminée (CGFP mars 2022) (AT_CON300R)\n",
      "[]\n"
     ]
    }
   ],
   "source": [
    "ul_element = browser.find_element(By.XPATH, \"/html/body/div[30]/div[2]/div/div[2]/div[5]/div/div/div/div/div[4]/div/div[1]/ul/li/ul/li/ul\")\n",
    "li_elements = ul_element.find_elements(By.TAG_NAME, \"li\")  # Récupérer tous les <li> sous ce <ul>\n",
    "\n",
    "# Afficher le texte de chaque <li>\n",
    "for index, li in enumerate(li_elements, start=1):\n",
    "    print(f\"LI {index}: {li.text}\")\n",
    "    pattern=r'{}'.format(re.escape(converted_text))\n",
    "   \n",
    "    regex=re.findall(pattern,li.text )\n",
    "    print(regex)\n",
    "    if regex:\n",
    "        print(regex)\n",
    "        xpath_element = browser.execute_script(\n",
    "            \"\"\"\n",
    "            var element = arguments[0];\n",
    "            var path = '';\n",
    "            while (element) {\n",
    "                var index = 1;\n",
    "                var sibling = element.previousElementSibling;\n",
    "                while (sibling) {\n",
    "                    if (sibling.tagName === element.tagName) index++;\n",
    "                    sibling = sibling.previousElementSibling;\n",
    "                }\n",
    "                path = '/' + element.tagName + '[' + index + ']' + path;\n",
    "                element = element.parentElement;\n",
    "            }\n",
    "            return path;\n",
    "            \"\"\", \n",
    "            li\n",
    "        )\n",
    "\n",
    "        print(f\"XPath of matching element: {xpath_element}\")\n",
    "        element=browser.find_element('xpath',xpath_element)\n",
    "        action.context_click(element).perform()\n",
    "                "
   ]
  },
  {
   "cell_type": "code",
   "execution_count": 48,
   "metadata": {},
   "outputs": [],
   "source": [
    "choisir_proposition=browser.find_element('xpath','/html/body/div[28]/div/div[1]').click()"
   ]
  },
  {
   "cell_type": "code",
   "execution_count": 51,
   "metadata": {},
   "outputs": [],
   "source": [
    "train_de_paie=browser.find_element('xpath','//div[2]/div/div[2]/div[5]/div/div/div/div/div[7]/div/div[3]/div/div/div[2]/div/input').clear()"
   ]
  },
  {
   "cell_type": "code",
   "execution_count": 52,
   "metadata": {},
   "outputs": [],
   "source": [
    "train_de_paie=browser.find_element('xpath','//div[2]/div/div[2]/div[5]/div/div/div/div/div[7]/div/div[3]/div/div/div[2]/div/input').send_keys('6')"
   ]
  },
  {
   "cell_type": "code",
   "execution_count": 53,
   "metadata": {},
   "outputs": [],
   "source": [
    "structure=browser.find_element('xpath','//div[2]/div/div[2]/div[5]/div/div/div/div/div[7]/div/div[4]/div/div[2]/div/div/div[2]/div/input').clear()"
   ]
  },
  {
   "cell_type": "markdown",
   "metadata": {},
   "source": [
    "    00079 - COLAF (à compter du 01/01/1952)\n",
    "    00404 - CONAF (à compter du 01/01/1952)\n",
    "    00136 - TOSCG (à compter du 01/01/1952)\n"
   ]
  },
  {
   "cell_type": "code",
   "execution_count": 54,
   "metadata": {},
   "outputs": [],
   "source": [
    "structure=browser.find_element('xpath','//div[2]/div/div[2]/div[5]/div/div/div/div/div[7]/div/div[4]/div/div[2]/div/div/div[2]/div/input').send_keys('00136')"
   ]
  },
  {
   "cell_type": "code",
   "execution_count": 66,
   "metadata": {},
   "outputs": [],
   "source": [
    "def determiner_temps_travail(heures):\n",
    "\n",
    "    # Extraire la valeur numérique des heures\n",
    "    try:\n",
    "        \n",
    "        if(heures==\"Temps complet\"):\n",
    "            return \"Temps complet\"\n",
    "        else:    \n",
    "            valeur = float(heures.split(\"h\")[0])  # Récupère la partie avant \"h\"\n",
    "            print(valeur)\n",
    "            \n",
    "            # Vérifier la durée pour classifier\n",
    "            if valeur >= 35:\n",
    "                return \"Temps complet\"   \n",
    "            else:\n",
    "                return \"Temps non complet\"\n",
    "    except ValueError:\n",
    "        return \"Format invalide\""
   ]
  },
  {
   "cell_type": "code",
   "execution_count": 67,
   "metadata": {},
   "outputs": [
    {
     "name": "stdout",
     "output_type": "stream",
     "text": [
      "20.0\n"
     ]
    },
    {
     "data": {
      "text/plain": [
       "'Temps non complet'"
      ]
     },
     "execution_count": 67,
     "metadata": {},
     "output_type": "execute_result"
    }
   ],
   "source": [
    "determiner_temps_travail(\"20.00h/Semaine\")"
   ]
  },
  {
   "cell_type": "code",
   "execution_count": null,
   "metadata": {},
   "outputs": [],
   "source": []
  }
 ],
 "metadata": {
  "kernelspec": {
   "display_name": "Python 3",
   "language": "python",
   "name": "python3"
  },
  "language_info": {
   "codemirror_mode": {
    "name": "ipython",
    "version": 3
   },
   "file_extension": ".py",
   "mimetype": "text/x-python",
   "name": "python",
   "nbconvert_exporter": "python",
   "pygments_lexer": "ipython3",
   "version": "3.10.11"
  }
 },
 "nbformat": 4,
 "nbformat_minor": 2
}
