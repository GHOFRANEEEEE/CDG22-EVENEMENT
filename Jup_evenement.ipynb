{
 "cells": [
  {
   "cell_type": "code",
   "execution_count": 3,
   "metadata": {},
   "outputs": [
    {
     "name": "stdout",
     "output_type": "stream",
     "text": [
      "browser switched\n",
      "element exist we click on it\n"
     ]
    }
   ],
   "source": [
    "import os\n",
    "from selenium import webdriver\n",
    "from selenium.webdriver.common.keys import Keys\n",
    "from selenium import webdriver\n",
    "from selenium import webdriver\n",
    "from selenium.webdriver.chrome.service import Service\n",
    "from selenium.webdriver.common.by import By\n",
    "import time\n",
    "options_r = webdriver.ChromeOptions()\n",
    "options_r.add_argument(\"--no-sandbox\")\n",
    "options_r.add_argument(\"--disable-dev-shm-usage\")\n",
    "browser = webdriver.Chrome(options=options_r)\n",
    "browser.get(\"https://sirh.cdg22.fr/cgi-bin/acces.exe\")\n",
    "#frame = browser.find_element(\"xpath\" , '//frame[@name=\"choixAppli\"]')\n",
    "#browser.switch_to.frame(frame)\n",
    "original_window = browser.current_window_handle\n",
    "name=browser.find_element(\"id\",\"identifiant\").send_keys(\"cirark\")\n",
    "password=browser.find_element(\"id\",\"motPasse\").send_keys(\"TestRPA611\")\n",
    "click_button=browser.find_element(\"id\",\"inputSubmit\").click()\n",
    "\n",
    "navigateagnet=browser.find_element(\"xpath\",'/html/body/div[2]/div[2]/div[2]/div/div/div[1]/div[2]/div').click()\n",
    "all_window_handles=browser.window_handles\n",
    "for window_handle in all_window_handles:\n",
    "    if window_handle != original_window:\n",
    "        browser.switch_to.window(window_handle)\n",
    "        print('browser switched')\n",
    "        break\n",
    "agent_browser=browser.find_element(\"id\",'E3TreeMenuSurvolLink')\n",
    "print('element exist we click on it')\n",
    "agent_browser=browser.find_element(\"xpath\",'/html/body/div[28]/div[2]/div/div[1]/div[1]/div[1]/div[1]/ul/li[1]/div/span').click()\n",
    "time.sleep(3)\n",
    "matricule_path=browser.find_element('xpath' , '/html/body/div[37]/div[2]/div/div[2]/div[4]/div/div/div/div/div[2]/div/div[2]/div/div[2]/div[3]/div/div/div[2]/div/input').send_keys(\"34909\")\n",
    "recherche_button=browser.find_element('xpath' , '/html/body/div[37]/div[2]/div/div[2]/div[2]/div[2]/ul/li[1]/div/div/div[2]/div/div[3]/div/input').click()\n",
    "time.sleep(2)\n",
    "#button=browser.find_element('xpath' , '/html/body/div[37]/div[2]/div/div[1]/div[1]/div[1]/div[1]/ul/li[1]/div/div[1]').click()\n",
    "time.sleep(4)"
   ]
  },
  {
   "cell_type": "code",
   "execution_count": 9,
   "metadata": {},
   "outputs": [],
   "source": [
    "dossier_administratif=browser.find_element('xpath','//div[2]/div/div[1]/div[1]/div[1]/div[1]/ul/li[1]/ul/li[7]').click()"
   ]
  },
  {
   "cell_type": "code",
   "execution_count": 10,
   "metadata": {},
   "outputs": [],
   "source": [
    "from selenium.webdriver.common.action_chains import ActionChains\n",
    "action = ActionChains(browser)\n",
    "element=browser.find_element('xpath',\"//div[2]/div/div[2]/div[5]/div/div/div/div/div[7]/div/div[1]/ul/li/ul/li/div/div[4]\")\n",
    "\n",
    "action.context_click(element).perform()"
   ]
  },
  {
   "cell_type": "code",
   "execution_count": 11,
   "metadata": {},
   "outputs": [],
   "source": [
    "saisir_evenement=browser.find_element('xpath','/html/body/div[45]/div/div[5]/a').click()"
   ]
  },
  {
   "cell_type": "code",
   "execution_count": null,
   "metadata": {},
   "outputs": [],
   "source": [
    "date_debut_contrat=browser.find_element('xpath','//div[2]/div/div[2]/div[5]/div/div/div/div/div[7]/div/div[3]/div/div/div[2]/div/input').clear()"
   ]
  },
  {
   "cell_type": "code",
   "execution_count": null,
   "metadata": {},
   "outputs": [],
   "source": [
    "date_excel=\"08/07/2024\"\n",
    "date_debut_contrat=browser.find_element('xpath','//div[2]/div/div[2]/div[5]/div/div/div/div/div[7]/div/div[3]/div/div/div[2]/div/input').send_keys(date_excel)"
   ]
  },
  {
   "cell_type": "code",
   "execution_count": 16,
   "metadata": {},
   "outputs": [],
   "source": [
    "evenement=browser.find_element('xpath','//div[2]/div/div[2]/div[5]/div/div/div/div/div[7]/div/div[6]/div/div/div[2]/div/input').send_keys('CA_NOMCONA3')"
   ]
  },
  {
   "cell_type": "code",
   "execution_count": 17,
   "metadata": {},
   "outputs": [],
   "source": [
    "famille_evenemnt=browser.find_element('xpath','//div[2]/div/div[2]/div[5]/div/div/div/div/div[7]/div/div[5]/div/div/div/input').send_keys('Contrat')"
   ]
  },
  {
   "cell_type": "code",
   "execution_count": 18,
   "metadata": {},
   "outputs": [],
   "source": [
    "enregistrer=browser.find_element('xpath','//div[2]/div/div[2]/div[2]/div[2]/ul/li[9]/div/div/div[2]/div/div[3]/div/input').click()"
   ]
  },
  {
   "cell_type": "code",
   "execution_count": 20,
   "metadata": {},
   "outputs": [
    {
     "name": "stdout",
     "output_type": "stream",
     "text": [
      "Nomination contractuel accroissement temporaire d’activité (art L332-23-1) (AT_CON301)\n"
     ]
    }
   ],
   "source": [
    "#MOTIF_colonne_excel___la_correspondance\n",
    "import re\n",
    "\n",
    "# Dictionnaire de conversion\n",
    "conversion_dict = {\n",
    "    \"Besoin occasionnel\": \"Nomination contractuel accroissement temporaire d’activité (art L332-23-1) (AT_CON301)\",\n",
    "    \"Besoin Saisonnier\": \"Remplacement Titulaire Nomination contractuel remplaçant temporaire (art L 332-13) (AT_CON310)\",\n",
    "    \"Remplacement Titulaire\": \"Nomination contractuel remplaçant temporaire (art L 332-13) (AT_CON310)\",\n",
    "    \"Vacance de Poste\": \"Nomination contractuel vacance temporaire d’emploi (art L 332-14) (AT_CON320)\"\n",
    "}\n",
    "\n",
    "# Fonction de conversion\n",
    "def convert_text(text, conversion_dict):\n",
    "    for key, value in conversion_dict.items():\n",
    "        text = re.sub(re.escape(key), value, text)\n",
    "    return text\n",
    "\n",
    "# Exemple d'utilisation\n",
    "text = \"Besoin occasionnel\"\n",
    "converted_text = convert_text(text, conversion_dict)\n",
    "print(converted_text)\n"
   ]
  },
  {
   "cell_type": "code",
   "execution_count": null,
   "metadata": {},
   "outputs": [],
   "source": []
  }
 ],
 "metadata": {
  "kernelspec": {
   "display_name": "Python 3",
   "language": "python",
   "name": "python3"
  },
  "language_info": {
   "codemirror_mode": {
    "name": "ipython",
    "version": 3
   },
   "file_extension": ".py",
   "mimetype": "text/x-python",
   "name": "python",
   "nbconvert_exporter": "python",
   "pygments_lexer": "ipython3",
   "version": "3.10.11"
  }
 },
 "nbformat": 4,
 "nbformat_minor": 2
}
